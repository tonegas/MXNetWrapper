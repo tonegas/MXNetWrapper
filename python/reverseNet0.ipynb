{
 "cells": [
  {
   "cell_type": "markdown",
   "metadata": {},
   "source": [
    "# Inverse net (acc, speed -> pedal)"
   ]
  },
  {
   "cell_type": "markdown",
   "metadata": {},
   "source": [
    "This network takes a 50 samples window of both speed (xsens1_gps_vel) and acceleration (xsens1) and returns a single output.\n",
    "Negative values corresponds to absolute values of the pedal position while positive outputs are the accelerator position"
   ]
  },
  {
   "cell_type": "code",
   "execution_count": 1,
   "metadata": {},
   "outputs": [
    {
     "name": "stderr",
     "output_type": "stream",
     "text": [
      "Using MXNet backend\n"
     ]
    }
   ],
   "source": [
    "# load libraries\n",
    "import pandas as pd\n",
    "import numpy as np\n",
    "import pydot as pydot\n",
    "import csv\n",
    "import math\n",
    "import os\n",
    "import matplotlib.pyplot as plt\n",
    "from keras import models\n",
    "from keras import layers\n",
    "from keras import regularizers\n",
    "from keras.utils import plot_model\n",
    "from keras.utils.vis_utils import model_to_dot\n",
    "from IPython.display import SVG"
   ]
  },
  {
   "cell_type": "markdown",
   "metadata": {},
   "source": [
    "## load data"
   ]
  },
  {
   "cell_type": "code",
   "execution_count": 2,
   "metadata": {},
   "outputs": [
    {
     "data": {
      "text/plain": [
       "'/Users/riccardodona/ownCloud/H2020 Dreams4Cars (shared)/7. Data logs/DFKI vehicles/Riccardo Nets/dataCSV'"
      ]
     },
     "execution_count": 2,
     "metadata": {},
     "output_type": "execute_result"
    }
   ],
   "source": [
    "# set directory\n",
    "os.chdir(\"dataCSV\")\n",
    "os.getcwd()"
   ]
  },
  {
   "cell_type": "code",
   "execution_count": 3,
   "metadata": {
    "collapsed": true
   },
   "outputs": [],
   "source": [
    "# load data\n",
    "timeData = []\n",
    "throttle = []\n",
    "brake    = []\n",
    "speed    = []\n",
    "acc      = []\n",
    "\n",
    "# Bassum\n",
    "with open('dataNETBassum.csv', 'r') as csvfile:\n",
    "    dataBassum = csv.reader(csvfile, delimiter=\",\")\n",
    "    for row in dataBassum:\n",
    "        timeData.append(float(row[0]))\n",
    "        throttle.append(float(row[1]))\n",
    "        brake.append(float(row[2]))\n",
    "        speed.append(float(row[3]))\n",
    "        acc.append(float(row[4]))\n",
    "\n",
    "useJeddeloch = False        \n",
    "# Jeddeloch \n",
    "if useJeddeloch == True:\n",
    "    with open('dataNETJeddeloch.csv','r') as csvfile:\n",
    "        dataJeddeloch = csv.reader(csvfile, delimiter=\",\")\n",
    "        for row in dataJeddeloch:\n",
    "            timeData.append(float(row[0]))\n",
    "            throttle.append(float(row[1]))\n",
    "            brake.append(float(row[2]))\n",
    "            speed.append(float(row[3]))\n",
    "            acc.append(float(row[4])) \n",
    "\n",
    "os.chdir(\"../\")\n",
    "os.getcwd()"
   ]
  },
  {
   "cell_type": "code",
   "execution_count": 4,
   "metadata": {
    "collapsed": true
   },
   "outputs": [],
   "source": [
    "# normalize data\n",
    "accMax = max(map (abs, acc))\n",
    "velMax = max(map (abs, speed))\n",
    "\n",
    "acc    = np.array(acc)/accMax\n",
    "speed  = np.array(speed)/velMax\n"
   ]
  },
  {
   "cell_type": "code",
   "execution_count": 7,
   "metadata": {
    "collapsed": true
   },
   "outputs": [],
   "source": [
    "# set net parameters\n",
    "nAcc = 50; nVel = 50;\n"
   ]
  },
  {
   "cell_type": "code",
   "execution_count": 8,
   "metadata": {
    "collapsed": true
   },
   "outputs": [],
   "source": [
    "# arrange data\n",
    "dataLen = len(throttle)\n",
    "maxWin  = max([nAcc, nVel])\n",
    "\n",
    "accInNet = np.empty((dataLen-maxWin,nAcc))\n",
    "velInNet = np.empty((dataLen-maxWin,nVel))\n",
    "ptOutNet = np.empty((dataLen-maxWin))\n",
    "pbOutNet = np.empty((dataLen-maxWin))\n",
    "\n",
    "for i in range(0,dataLen-maxWin):\n",
    "    accInNet[i] = acc[i:i+nAcc]\n",
    "    velInNet[i] = speed[i:i+nVel]\n",
    "    ptOutNet[i] = throttle[i+maxWin]\n",
    "    pbOutNet[i] = brake[i+maxWin]"
   ]
  },
  {
   "cell_type": "code",
   "execution_count": 9,
   "metadata": {
    "collapsed": true
   },
   "outputs": [],
   "source": [
    "# define train set\n",
    "x_train = np.empty((dataLen-maxWin,nAcc+nVel))\n",
    "for i in range(0,dataLen-maxWin):\n",
    "    x_train[i] = np.array((acc[i:i+nAcc], speed[i:i+nVel])).flatten()\n",
    "\n",
    "# define train set\n",
    "y_train = np.empty((dataLen-maxWin))\n",
    "for i in range(0,dataLen-maxWin):\n",
    "    y_train[i] = np.array((ptOutNet[i]-pbOutNet[i]))\n"
   ]
  },
  {
   "cell_type": "markdown",
   "metadata": {},
   "source": [
    "## Visualize data"
   ]
  },
  {
   "cell_type": "code",
   "execution_count": 10,
   "metadata": {
    "collapsed": true
   },
   "outputs": [],
   "source": [
    "# split examples\n",
    "exList = []\n",
    "j = 0\n",
    "exList.append([0, 0])\n",
    "\n",
    "for i in range(0, len(timeData)-1):\n",
    "    if timeData[i]-timeData[i+1] < 0:\n",
    "        exList[j][1] = i\n",
    "    else:\n",
    "        exList.append([i+1, 0])\n",
    "        j += 1"
   ]
  },
  {
   "cell_type": "code",
   "execution_count": 12,
   "metadata": {},
   "outputs": [
    {
     "data": {
      "image/png": "[encoded data removed]",
      "text/plain": [
       "<matplotlib.figure.Figure at 0x11e8001d0>"
      ]
     },
     "metadata": {},
     "output_type": "display_data"
    }
   ],
   "source": [
    "# inspect data\n",
    "ex = 8\n",
    "\n",
    "plt.figure(figsize=(10,6))\n",
    "plt.grid()\n",
    "plt.plot(timeData[exList[ex][0]:exList[ex][1]],throttle[exList[ex][0]:exList[ex][1]],'-k')\n",
    "plt.plot(timeData[exList[ex][0]:exList[ex][1]],brake[exList[ex][0]:exList[ex][1]],'-r')\n",
    "plt.plot(timeData[exList[ex][0]:exList[ex][1]],speed[exList[ex][0]:exList[ex][1]],'-b')\n",
    "plt.ylim([-0.05, 1.02])\n",
    "plt.legend(['Throttle','Brake', 'Speed'])\n",
    "plt.xlabel('time [s]')\n",
    "plt.ylabel('normalized values [-]')\n",
    "plt.title('Throttle, brake pedal position and speed for test: %d' % ex)\n",
    "plt.show()\n"
   ]
  },
  {
   "cell_type": "markdown",
   "metadata": {},
   "source": [
    "## Network structure"
   ]
  },
  {
   "cell_type": "code",
   "execution_count": 13,
   "metadata": {
    "collapsed": true
   },
   "outputs": [],
   "source": [
    "# test net\n",
    "state_in = layers.Input(shape=(nAcc+nVel,),name='state_in')\n",
    "lay1     = layers.Dense(50, activation='sigmoid')(state_in)\n",
    "lay2     = layers.Dense(20, activation='relu')(lay1)\n",
    "ped_out  = layers.Dense(1,name='pt_out',activation='tanh')(lay2)\n",
    "invNet0  = models.Model(inputs=state_in, outputs=ped_out)"
   ]
  },
  {
   "cell_type": "code",
   "execution_count": 14,
   "metadata": {},
   "outputs": [
    {
     "data": {
      "image/svg+xml": [
       "<svg height=\"264pt\" viewBox=\"0.00 0.00 137.13 264.00\" width=\"137pt\" xmlns=\"http://www.w3.org/2000/svg\" xmlns:xlink=\"http://www.w3.org/1999/xlink\">\n",
       "<g class=\"graph\" id=\"graph0\" transform=\"scale(1 1) rotate(0) translate(4 260)\">\n",
       "<title>G</title>\n",
       "<polygon fill=\"#ffffff\" points=\"-4,4 -4,-260 133.1279,-260 133.1279,4 -4,4\" stroke=\"transparent\"/>\n",
       "<!-- 4805600816 -->\n",
       "<g class=\"node\" id=\"node1\">\n",
       "<title>4805600816</title>\n",
       "<polygon fill=\"none\" points=\"0,-219.5 0,-255.5 129.1279,-255.5 129.1279,-219.5 0,-219.5\" stroke=\"#000000\"/>\n",
       "<text fill=\"#000000\" font-family=\"Times,serif\" font-size=\"14.00\" text-anchor=\"middle\" x=\"64.564\" y=\"-233.3\">state_in: InputLayer</text>\n",
       "</g>\n",
       "<!-- 4805599472 -->\n",
       "<g class=\"node\" id=\"node2\">\n",
       "<title>4805599472</title>\n",
       "<polygon fill=\"none\" points=\"12.438,-146.5 12.438,-182.5 116.6899,-182.5 116.6899,-146.5 12.438,-146.5\" stroke=\"#000000\"/>\n",
       "<text fill=\"#000000\" font-family=\"Times,serif\" font-size=\"14.00\" text-anchor=\"middle\" x=\"64.564\" y=\"-160.3\">dense_1: Dense</text>\n",
       "</g>\n",
       "<!-- 4805600816&#45;&gt;4805599472 -->\n",
       "<g class=\"edge\" id=\"edge1\">\n",
       "<title>4805600816-&gt;4805599472</title>\n",
       "<path d=\"M64.564,-219.4551C64.564,-211.3828 64.564,-201.6764 64.564,-192.6817\" fill=\"none\" stroke=\"#000000\"/>\n",
       "<polygon fill=\"#000000\" points=\"68.0641,-192.5903 64.564,-182.5904 61.0641,-192.5904 68.0641,-192.5903\" stroke=\"#000000\"/>\n",
       "</g>\n",
       "<!-- 4805600760 -->\n",
       "<g class=\"node\" id=\"node3\">\n",
       "<title>4805600760</title>\n",
       "<polygon fill=\"none\" points=\"12.438,-73.5 12.438,-109.5 116.6899,-109.5 116.6899,-73.5 12.438,-73.5\" stroke=\"#000000\"/>\n",
       "<text fill=\"#000000\" font-family=\"Times,serif\" font-size=\"14.00\" text-anchor=\"middle\" x=\"64.564\" y=\"-87.3\">dense_2: Dense</text>\n",
       "</g>\n",
       "<!-- 4805599472&#45;&gt;4805600760 -->\n",
       "<g class=\"edge\" id=\"edge2\">\n",
       "<title>4805599472-&gt;4805600760</title>\n",
       "<path d=\"M64.564,-146.4551C64.564,-138.3828 64.564,-128.6764 64.564,-119.6817\" fill=\"none\" stroke=\"#000000\"/>\n",
       "<polygon fill=\"#000000\" points=\"68.0641,-119.5903 64.564,-109.5904 61.0641,-119.5904 68.0641,-119.5903\" stroke=\"#000000\"/>\n",
       "</g>\n",
       "<!-- 4876851632 -->\n",
       "<g class=\"node\" id=\"node4\">\n",
       "<title>4876851632</title>\n",
       "<polygon fill=\"none\" points=\"17.4863,-.5 17.4863,-36.5 111.6416,-36.5 111.6416,-.5 17.4863,-.5\" stroke=\"#000000\"/>\n",
       "<text fill=\"#000000\" font-family=\"Times,serif\" font-size=\"14.00\" text-anchor=\"middle\" x=\"64.564\" y=\"-14.3\">pt_out: Dense</text>\n",
       "</g>\n",
       "<!-- 4805600760&#45;&gt;4876851632 -->\n",
       "<g class=\"edge\" id=\"edge3\">\n",
       "<title>4805600760-&gt;4876851632</title>\n",
       "<path d=\"M64.564,-73.4551C64.564,-65.3828 64.564,-55.6764 64.564,-46.6817\" fill=\"none\" stroke=\"#000000\"/>\n",
       "<polygon fill=\"#000000\" points=\"68.0641,-46.5903 64.564,-36.5904 61.0641,-46.5904 68.0641,-46.5903\" stroke=\"#000000\"/>\n",
       "</g>\n",
       "</g>\n",
       "</svg>"
      ],
      "text/plain": [
       "<IPython.core.display.SVG object>"
      ]
     },
     "execution_count": 14,
     "metadata": {},
     "output_type": "execute_result"
    }
   ],
   "source": [
    "SVG(model_to_dot(invNet0).create(prog='dot', format='svg'))"
   ]
  },
  {
   "cell_type": "code",
   "execution_count": 16,
   "metadata": {},
   "outputs": [],
   "source": [
    "# initialize model\n",
    "invNet0.compile(loss='mse',\n",
    "             optimizer='rmsprop',\n",
    "             metrics=['accuracy'])"
   ]
  },
  {
   "cell_type": "code",
   "execution_count": 17,
   "metadata": {
    "scrolled": true
   },
   "outputs": [
    {
     "name": "stdout",
     "output_type": "stream",
     "text": [
      "Epoch 1/200\n",
      " - 0s - loss: 0.0858 - acc: 0.1631\n",
      "Epoch 2/200\n"
     ]
    },
    {
     "name": "stderr",
     "output_type": "stream",
     "text": [
      "/anaconda/lib/python3.6/site-packages/mxnet/module/bucketing_module.py:408: UserWarning: Optimizer created manually outside Module but rescale_grad is not normalized to 1.0/batch_size/num_workers (1.0 vs. 0.0078125). Is this intended?\n",
      "  force_init=force_init)\n"
     ]
    },
    {
     "name": "stdout",
     "output_type": "stream",
     "text": [
      " - 0s - loss: 0.0557 - acc: 0.1671\n",
      "Epoch 3/200\n",
      " - 0s - loss: 0.0484 - acc: 0.1673\n",
      "Epoch 4/200\n",
      " - 0s - loss: 0.0421 - acc: 0.1676\n",
      "Epoch 5/200\n",
      " - 0s - loss: 0.0373 - acc: 0.1682\n",
      "Epoch 6/200\n",
      " - 0s - loss: 0.0326 - acc: 0.1682\n",
      "Epoch 7/200\n",
      " - 0s - loss: 0.0311 - acc: 0.1682\n",
      "Epoch 8/200\n",
      " - 0s - loss: 0.0280 - acc: 0.1686\n",
      "Epoch 9/200\n",
      " - 0s - loss: 0.0262 - acc: 0.1686\n",
      "Epoch 10/200\n",
      " - 0s - loss: 0.0252 - acc: 0.1688\n",
      "Epoch 11/200\n",
      " - 0s - loss: 0.0231 - acc: 0.1690\n",
      "Epoch 12/200\n",
      " - 0s - loss: 0.0235 - acc: 0.1690\n",
      "Epoch 13/200\n",
      " - 0s - loss: 0.0220 - acc: 0.1688\n",
      "Epoch 14/200\n",
      " - 0s - loss: 0.0217 - acc: 0.1690\n",
      "Epoch 15/200\n",
      " - 0s - loss: 0.0213 - acc: 0.1690\n",
      "Epoch 16/200\n",
      " - 0s - loss: 0.0214 - acc: 0.1688\n",
      "Epoch 17/200\n",
      " - 0s - loss: 0.0206 - acc: 0.1690\n",
      "Epoch 18/200\n",
      " - 0s - loss: 0.0211 - acc: 0.1690\n",
      "Epoch 19/200\n",
      " - 0s - loss: 0.0206 - acc: 0.1691\n",
      "Epoch 20/200\n",
      " - 0s - loss: 0.0203 - acc: 0.1691\n",
      "Epoch 21/200\n",
      " - 0s - loss: 0.0204 - acc: 0.1690\n",
      "Epoch 22/200\n",
      " - 0s - loss: 0.0200 - acc: 0.1690\n",
      "Epoch 23/200\n",
      " - 0s - loss: 0.0204 - acc: 0.1688\n",
      "Epoch 24/200\n",
      " - 0s - loss: 0.0199 - acc: 0.1691\n",
      "Epoch 25/200\n",
      " - 0s - loss: 0.0198 - acc: 0.1688\n",
      "Epoch 26/200\n",
      " - 0s - loss: 0.0198 - acc: 0.1691\n",
      "Epoch 27/200\n",
      " - 0s - loss: 0.0197 - acc: 0.1688\n",
      "Epoch 28/200\n",
      " - 0s - loss: 0.0194 - acc: 0.1688\n",
      "Epoch 29/200\n",
      " - 0s - loss: 0.0195 - acc: 0.1691\n",
      "Epoch 30/200\n",
      " - 0s - loss: 0.0192 - acc: 0.1691\n",
      "Epoch 31/200\n",
      " - 0s - loss: 0.0192 - acc: 0.1688\n",
      "Epoch 32/200\n",
      " - 0s - loss: 0.0195 - acc: 0.1691\n",
      "Epoch 33/200\n",
      " - 0s - loss: 0.0185 - acc: 0.1690\n",
      "Epoch 34/200\n",
      " - 0s - loss: 0.0190 - acc: 0.1690\n",
      "Epoch 35/200\n",
      " - 0s - loss: 0.0188 - acc: 0.1688\n",
      "Epoch 36/200\n",
      " - 0s - loss: 0.0187 - acc: 0.1691\n",
      "Epoch 37/200\n",
      " - 0s - loss: 0.0184 - acc: 0.1690\n",
      "Epoch 38/200\n",
      " - 0s - loss: 0.0182 - acc: 0.1690\n",
      "Epoch 39/200\n",
      " - 0s - loss: 0.0184 - acc: 0.1690\n",
      "Epoch 40/200\n",
      " - 0s - loss: 0.0182 - acc: 0.1691\n",
      "Epoch 41/200\n",
      " - 0s - loss: 0.0183 - acc: 0.1690\n",
      "Epoch 42/200\n",
      " - 0s - loss: 0.0180 - acc: 0.1690\n",
      "Epoch 43/200\n",
      " - 0s - loss: 0.0180 - acc: 0.1691\n",
      "Epoch 44/200\n",
      " - 0s - loss: 0.0181 - acc: 0.1687\n",
      "Epoch 45/200\n",
      " - 0s - loss: 0.0181 - acc: 0.1690\n",
      "Epoch 46/200\n",
      " - 0s - loss: 0.0178 - acc: 0.1690\n",
      "Epoch 47/200\n",
      " - 0s - loss: 0.0178 - acc: 0.1690\n",
      "Epoch 48/200\n",
      " - 0s - loss: 0.0176 - acc: 0.1688\n",
      "Epoch 49/200\n",
      " - 0s - loss: 0.0178 - acc: 0.1688\n",
      "Epoch 50/200\n",
      " - 0s - loss: 0.0174 - acc: 0.1690\n",
      "Epoch 51/200\n",
      " - 0s - loss: 0.0171 - acc: 0.1690\n",
      "Epoch 52/200\n",
      " - 0s - loss: 0.0174 - acc: 0.1688\n",
      "Epoch 53/200\n",
      " - 0s - loss: 0.0171 - acc: 0.1690\n",
      "Epoch 54/200\n",
      " - 0s - loss: 0.0172 - acc: 0.1690\n",
      "Epoch 55/200\n",
      " - 0s - loss: 0.0173 - acc: 0.1688\n",
      "Epoch 56/200\n",
      " - 0s - loss: 0.0169 - acc: 0.1690\n",
      "Epoch 57/200\n",
      " - 0s - loss: 0.0169 - acc: 0.1691\n",
      "Epoch 58/200\n",
      " - 0s - loss: 0.0169 - acc: 0.1690\n",
      "Epoch 59/200\n",
      " - 0s - loss: 0.0169 - acc: 0.1688\n",
      "Epoch 60/200\n",
      " - 0s - loss: 0.0169 - acc: 0.1688\n",
      "Epoch 61/200\n",
      " - 0s - loss: 0.0165 - acc: 0.1687\n",
      "Epoch 62/200\n",
      " - 0s - loss: 0.0167 - acc: 0.1691\n",
      "Epoch 63/200\n",
      " - 0s - loss: 0.0163 - acc: 0.1690\n",
      "Epoch 64/200\n",
      " - 0s - loss: 0.0168 - acc: 0.1690\n",
      "Epoch 65/200\n",
      " - 0s - loss: 0.0164 - acc: 0.1690\n",
      "Epoch 66/200\n",
      " - 0s - loss: 0.0165 - acc: 0.1691\n",
      "Epoch 67/200\n",
      " - 0s - loss: 0.0164 - acc: 0.1690\n",
      "Epoch 68/200\n",
      " - 0s - loss: 0.0165 - acc: 0.1690\n",
      "Epoch 69/200\n",
      " - 0s - loss: 0.0159 - acc: 0.1690\n",
      "Epoch 70/200\n",
      " - 0s - loss: 0.0162 - acc: 0.1690\n",
      "Epoch 71/200\n",
      " - 0s - loss: 0.0161 - acc: 0.1691\n",
      "Epoch 72/200\n",
      " - 0s - loss: 0.0159 - acc: 0.1692\n",
      "Epoch 73/200\n",
      " - 0s - loss: 0.0158 - acc: 0.1690\n",
      "Epoch 74/200\n",
      " - 0s - loss: 0.0163 - acc: 0.1691\n",
      "Epoch 75/200\n",
      " - 0s - loss: 0.0157 - acc: 0.1690\n",
      "Epoch 76/200\n",
      " - 0s - loss: 0.0160 - acc: 0.1690\n",
      "Epoch 77/200\n",
      " - 0s - loss: 0.0155 - acc: 0.1690\n",
      "Epoch 78/200\n",
      " - 0s - loss: 0.0159 - acc: 0.1690\n",
      "Epoch 79/200\n",
      " - 0s - loss: 0.0158 - acc: 0.1691\n",
      "Epoch 80/200\n",
      " - 0s - loss: 0.0158 - acc: 0.1691\n",
      "Epoch 81/200\n",
      " - 0s - loss: 0.0155 - acc: 0.1690\n",
      "Epoch 82/200\n",
      " - 0s - loss: 0.0157 - acc: 0.1691\n",
      "Epoch 83/200\n",
      " - 0s - loss: 0.0156 - acc: 0.1690\n",
      "Epoch 84/200\n",
      " - 0s - loss: 0.0153 - acc: 0.1691\n",
      "Epoch 85/200\n",
      " - 0s - loss: 0.0153 - acc: 0.1691\n",
      "Epoch 86/200\n",
      " - 0s - loss: 0.0152 - acc: 0.1690\n",
      "Epoch 87/200\n",
      " - 0s - loss: 0.0153 - acc: 0.1691\n",
      "Epoch 88/200\n",
      " - 0s - loss: 0.0151 - acc: 0.1692\n",
      "Epoch 89/200\n",
      " - 0s - loss: 0.0153 - acc: 0.1691\n",
      "Epoch 90/200\n",
      " - 0s - loss: 0.0148 - acc: 0.1691\n",
      "Epoch 91/200\n",
      " - 0s - loss: 0.0149 - acc: 0.1691\n",
      "Epoch 92/200\n",
      " - 0s - loss: 0.0149 - acc: 0.1692\n",
      "Epoch 93/200\n",
      " - 0s - loss: 0.0149 - acc: 0.1690\n",
      "Epoch 94/200\n",
      " - 0s - loss: 0.0148 - acc: 0.1690\n",
      "Epoch 95/200\n",
      " - 0s - loss: 0.0145 - acc: 0.1688\n",
      "Epoch 96/200\n",
      " - 0s - loss: 0.0150 - acc: 0.1691\n",
      "Epoch 97/200\n",
      " - 0s - loss: 0.0147 - acc: 0.1690\n",
      "Epoch 98/200\n",
      " - 0s - loss: 0.0145 - acc: 0.1691\n",
      "Epoch 99/200\n",
      " - 0s - loss: 0.0144 - acc: 0.1690\n",
      "Epoch 100/200\n",
      " - 0s - loss: 0.0146 - acc: 0.1690\n",
      "Epoch 101/200\n",
      " - 0s - loss: 0.0145 - acc: 0.1691\n",
      "Epoch 102/200\n",
      " - 0s - loss: 0.0141 - acc: 0.1692\n",
      "Epoch 103/200\n",
      " - 0s - loss: 0.0143 - acc: 0.1691\n",
      "Epoch 104/200\n",
      " - 0s - loss: 0.0142 - acc: 0.1688\n",
      "Epoch 105/200\n",
      " - 0s - loss: 0.0142 - acc: 0.1691\n",
      "Epoch 106/200\n",
      " - 0s - loss: 0.0141 - acc: 0.1691\n",
      "Epoch 107/200\n",
      " - 0s - loss: 0.0140 - acc: 0.1692\n",
      "Epoch 108/200\n",
      " - 0s - loss: 0.0143 - acc: 0.1691\n",
      "Epoch 109/200\n",
      " - 0s - loss: 0.0145 - acc: 0.1690\n",
      "Epoch 110/200\n",
      " - 0s - loss: 0.0140 - acc: 0.1691\n",
      "Epoch 111/200\n",
      " - 0s - loss: 0.0138 - acc: 0.1691\n",
      "Epoch 112/200\n",
      " - 0s - loss: 0.0137 - acc: 0.1688\n",
      "Epoch 113/200\n",
      " - 0s - loss: 0.0139 - acc: 0.1691\n",
      "Epoch 114/200\n",
      " - 0s - loss: 0.0137 - acc: 0.1691\n",
      "Epoch 115/200\n",
      " - 0s - loss: 0.0137 - acc: 0.1691\n",
      "Epoch 116/200\n",
      " - 0s - loss: 0.0136 - acc: 0.1690\n",
      "Epoch 117/200\n",
      " - 0s - loss: 0.0135 - acc: 0.1690\n",
      "Epoch 118/200\n",
      " - 0s - loss: 0.0135 - acc: 0.1687\n",
      "Epoch 119/200\n",
      " - 0s - loss: 0.0136 - acc: 0.1690\n",
      "Epoch 120/200\n",
      " - 0s - loss: 0.0132 - acc: 0.1691\n",
      "Epoch 121/200\n",
      " - 0s - loss: 0.0132 - acc: 0.1691\n",
      "Epoch 122/200\n",
      " - 0s - loss: 0.0134 - acc: 0.1691\n",
      "Epoch 123/200\n",
      " - 0s - loss: 0.0131 - acc: 0.1691\n",
      "Epoch 124/200\n",
      " - 0s - loss: 0.0132 - acc: 0.1688\n",
      "Epoch 125/200\n",
      " - 0s - loss: 0.0134 - acc: 0.1691\n",
      "Epoch 126/200\n",
      " - 0s - loss: 0.0132 - acc: 0.1691\n",
      "Epoch 127/200\n",
      " - 0s - loss: 0.0131 - acc: 0.1690\n",
      "Epoch 128/200\n",
      " - 0s - loss: 0.0132 - acc: 0.1692\n",
      "Epoch 129/200\n",
      " - 0s - loss: 0.0128 - acc: 0.1691\n",
      "Epoch 130/200\n",
      " - 0s - loss: 0.0130 - acc: 0.1692\n",
      "Epoch 131/200\n",
      " - 0s - loss: 0.0129 - acc: 0.1688\n",
      "Epoch 132/200\n",
      " - 0s - loss: 0.0130 - acc: 0.1692\n",
      "Epoch 133/200\n",
      " - 0s - loss: 0.0128 - acc: 0.1690\n",
      "Epoch 134/200\n",
      " - 0s - loss: 0.0128 - acc: 0.1692\n",
      "Epoch 135/200\n",
      " - 0s - loss: 0.0128 - acc: 0.1693\n",
      "Epoch 136/200\n",
      " - 0s - loss: 0.0127 - acc: 0.1692\n",
      "Epoch 137/200\n",
      " - 0s - loss: 0.0125 - acc: 0.1690\n",
      "Epoch 138/200\n",
      " - 0s - loss: 0.0127 - acc: 0.1692\n",
      "Epoch 139/200\n",
      " - 0s - loss: 0.0126 - acc: 0.1691\n",
      "Epoch 140/200\n",
      " - 0s - loss: 0.0126 - acc: 0.1691\n",
      "Epoch 141/200\n",
      " - 0s - loss: 0.0123 - acc: 0.1690\n",
      "Epoch 142/200\n",
      " - 0s - loss: 0.0126 - acc: 0.1690\n",
      "Epoch 143/200\n",
      " - 0s - loss: 0.0123 - acc: 0.1691\n",
      "Epoch 144/200\n",
      " - 0s - loss: 0.0124 - acc: 0.1690\n",
      "Epoch 145/200\n",
      " - 0s - loss: 0.0127 - acc: 0.1690\n",
      "Epoch 146/200\n",
      " - 0s - loss: 0.0125 - acc: 0.1690\n",
      "Epoch 147/200\n",
      " - 0s - loss: 0.0123 - acc: 0.1690\n",
      "Epoch 148/200\n",
      " - 0s - loss: 0.0122 - acc: 0.1693\n",
      "Epoch 149/200\n",
      " - 0s - loss: 0.0123 - acc: 0.1693\n",
      "Epoch 150/200\n",
      " - 0s - loss: 0.0122 - acc: 0.1691\n",
      "Epoch 151/200\n",
      " - 0s - loss: 0.0123 - acc: 0.1691\n",
      "Epoch 152/200\n",
      " - 0s - loss: 0.0124 - acc: 0.1692\n",
      "Epoch 153/200\n",
      " - 0s - loss: 0.0121 - acc: 0.1691\n",
      "Epoch 154/200\n",
      " - 0s - loss: 0.0124 - acc: 0.1691\n",
      "Epoch 155/200\n",
      " - 0s - loss: 0.0118 - acc: 0.1691\n",
      "Epoch 156/200\n",
      " - 0s - loss: 0.0122 - acc: 0.1691\n",
      "Epoch 157/200\n",
      " - 0s - loss: 0.0120 - acc: 0.1692\n",
      "Epoch 158/200\n",
      " - 0s - loss: 0.0119 - acc: 0.1691\n",
      "Epoch 159/200\n",
      " - 0s - loss: 0.0120 - acc: 0.1693\n",
      "Epoch 160/200\n",
      " - 0s - loss: 0.0119 - acc: 0.1692\n",
      "Epoch 161/200\n",
      " - 0s - loss: 0.0122 - acc: 0.1690\n",
      "Epoch 162/200\n",
      " - 0s - loss: 0.0118 - acc: 0.1692\n",
      "Epoch 163/200\n",
      " - 0s - loss: 0.0122 - acc: 0.1688\n",
      "Epoch 164/200\n",
      " - 0s - loss: 0.0121 - acc: 0.1692\n",
      "Epoch 165/200\n",
      " - 0s - loss: 0.0116 - acc: 0.1692\n",
      "Epoch 166/200\n",
      " - 0s - loss: 0.0116 - acc: 0.1692\n",
      "Epoch 167/200\n",
      " - 0s - loss: 0.0121 - acc: 0.1690\n",
      "Epoch 168/200\n",
      " - 0s - loss: 0.0115 - acc: 0.1693\n",
      "Epoch 169/200\n",
      " - 0s - loss: 0.0119 - acc: 0.1691\n",
      "Epoch 170/200\n",
      " - 0s - loss: 0.0118 - acc: 0.1693\n",
      "Epoch 171/200\n",
      " - 0s - loss: 0.0118 - acc: 0.1695\n"
     ]
    },
    {
     "name": "stdout",
     "output_type": "stream",
     "text": [
      "Epoch 172/200\n",
      " - 0s - loss: 0.0118 - acc: 0.1692\n",
      "Epoch 173/200\n",
      " - 0s - loss: 0.0117 - acc: 0.1693\n",
      "Epoch 174/200\n",
      " - 0s - loss: 0.0118 - acc: 0.1693\n",
      "Epoch 175/200\n",
      " - 0s - loss: 0.0115 - acc: 0.1692\n",
      "Epoch 176/200\n",
      " - 0s - loss: 0.0120 - acc: 0.1691\n",
      "Epoch 177/200\n",
      " - 0s - loss: 0.0115 - acc: 0.1690\n",
      "Epoch 178/200\n",
      " - 0s - loss: 0.0116 - acc: 0.1693\n",
      "Epoch 179/200\n",
      " - 0s - loss: 0.0117 - acc: 0.1693\n",
      "Epoch 180/200\n",
      " - 0s - loss: 0.0115 - acc: 0.1693\n",
      "Epoch 181/200\n",
      " - 0s - loss: 0.0119 - acc: 0.1696\n",
      "Epoch 182/200\n",
      " - 0s - loss: 0.0113 - acc: 0.1692\n",
      "Epoch 183/200\n",
      " - 0s - loss: 0.0115 - acc: 0.1693\n",
      "Epoch 184/200\n",
      " - 0s - loss: 0.0116 - acc: 0.1691\n",
      "Epoch 185/200\n",
      " - 0s - loss: 0.0113 - acc: 0.1693\n",
      "Epoch 186/200\n",
      " - 0s - loss: 0.0116 - acc: 0.1695\n",
      "Epoch 187/200\n",
      " - 0s - loss: 0.0116 - acc: 0.1693\n",
      "Epoch 188/200\n",
      " - 0s - loss: 0.0114 - acc: 0.1692\n",
      "Epoch 189/200\n",
      " - 0s - loss: 0.0116 - acc: 0.1691\n",
      "Epoch 190/200\n",
      " - 0s - loss: 0.0114 - acc: 0.1696\n",
      "Epoch 191/200\n",
      " - 0s - loss: 0.0112 - acc: 0.1696\n",
      "Epoch 192/200\n",
      " - 0s - loss: 0.0117 - acc: 0.1695\n",
      "Epoch 193/200\n",
      " - 0s - loss: 0.0113 - acc: 0.1693\n",
      "Epoch 194/200\n",
      " - 0s - loss: 0.0115 - acc: 0.1696\n",
      "Epoch 195/200\n",
      " - 0s - loss: 0.0112 - acc: 0.1695\n",
      "Epoch 196/200\n",
      " - 0s - loss: 0.0113 - acc: 0.1696\n",
      "Epoch 197/200\n",
      " - 0s - loss: 0.0112 - acc: 0.1695\n",
      "Epoch 198/200\n",
      " - 0s - loss: 0.0113 - acc: 0.1696\n",
      "Epoch 199/200\n",
      " - 0s - loss: 0.0113 - acc: 0.1695\n",
      "Epoch 200/200\n",
      " - 0s - loss: 0.0110 - acc: 0.1696\n"
     ]
    }
   ],
   "source": [
    "# first train model\n",
    "hist0 = invNet0.fit(x_train, y_train,\n",
    "         epochs=200,\n",
    "         batch_size=128,\n",
    "         verbose=2);"
   ]
  },
  {
   "cell_type": "code",
   "execution_count": 18,
   "metadata": {},
   "outputs": [
    {
     "data": {
      "image/png": "[encoded data removed]",
      "text/plain": [
       "<matplotlib.figure.Figure at 0x12339b6a0>"
      ]
     },
     "metadata": {},
     "output_type": "display_data"
    }
   ],
   "source": [
    "plt.figure(figsize=(10,5))\n",
    "plt.plot(hist0.history['loss'])\n",
    "plt.grid()\n",
    "plt.title('model loss')\n",
    "plt.ylabel('loss')\n",
    "plt.xlabel('epoch')\n",
    "plt.legend(['train'], loc='upper right')\n",
    "plt.show()"
   ]
  },
  {
   "cell_type": "code",
   "execution_count": 25,
   "metadata": {
    "scrolled": true
   },
   "outputs": [
    {
     "name": "stdout",
     "output_type": "stream",
     "text": [
      "Epoch 1/100\n",
      " - 0s - loss: 0.0056 - acc: 0.1699\n",
      "Epoch 2/100\n",
      " - 0s - loss: 0.0057 - acc: 0.1699\n",
      "Epoch 3/100\n",
      " - 0s - loss: 0.0055 - acc: 0.1697\n",
      "Epoch 4/100\n",
      " - 0s - loss: 0.0055 - acc: 0.1699\n",
      "Epoch 5/100\n",
      " - 0s - loss: 0.0055 - acc: 0.1700\n",
      "Epoch 6/100\n",
      " - 0s - loss: 0.0056 - acc: 0.1697\n",
      "Epoch 7/100\n",
      " - 0s - loss: 0.0056 - acc: 0.1697\n",
      "Epoch 8/100\n",
      " - 0s - loss: 0.0058 - acc: 0.1699\n",
      "Epoch 9/100\n",
      " - 0s - loss: 0.0055 - acc: 0.1699\n",
      "Epoch 10/100\n",
      " - 0s - loss: 0.0057 - acc: 0.1695\n",
      "Epoch 11/100\n",
      " - 0s - loss: 0.0057 - acc: 0.1696\n",
      "Epoch 12/100\n",
      " - 0s - loss: 0.0056 - acc: 0.1699\n",
      "Epoch 13/100\n",
      " - 0s - loss: 0.0057 - acc: 0.1697\n",
      "Epoch 14/100\n",
      " - 0s - loss: 0.0055 - acc: 0.1699\n",
      "Epoch 15/100\n",
      " - 0s - loss: 0.0055 - acc: 0.1697\n",
      "Epoch 16/100\n",
      " - 0s - loss: 0.0054 - acc: 0.1699\n",
      "Epoch 17/100\n",
      " - 0s - loss: 0.0055 - acc: 0.1699\n",
      "Epoch 18/100\n",
      " - 1s - loss: 0.0055 - acc: 0.1697\n",
      "Epoch 19/100\n",
      " - 0s - loss: 0.0055 - acc: 0.1697\n",
      "Epoch 20/100\n",
      " - 0s - loss: 0.0054 - acc: 0.1697\n",
      "Epoch 21/100\n",
      " - 0s - loss: 0.0054 - acc: 0.1699\n",
      "Epoch 22/100\n",
      " - 0s - loss: 0.0056 - acc: 0.1699\n",
      "Epoch 23/100\n",
      " - 0s - loss: 0.0055 - acc: 0.1697\n",
      "Epoch 24/100\n",
      " - 0s - loss: 0.0056 - acc: 0.1697\n",
      "Epoch 25/100\n",
      " - 0s - loss: 0.0056 - acc: 0.1696\n",
      "Epoch 26/100\n",
      " - 0s - loss: 0.0055 - acc: 0.1699\n",
      "Epoch 27/100\n",
      " - 0s - loss: 0.0055 - acc: 0.1699\n",
      "Epoch 28/100\n",
      " - 0s - loss: 0.0055 - acc: 0.1699\n",
      "Epoch 29/100\n",
      " - 0s - loss: 0.0055 - acc: 0.1699\n",
      "Epoch 30/100\n",
      " - 0s - loss: 0.0055 - acc: 0.1697\n",
      "Epoch 31/100\n",
      " - 0s - loss: 0.0054 - acc: 0.1697\n",
      "Epoch 32/100\n",
      " - 0s - loss: 0.0055 - acc: 0.1697\n",
      "Epoch 33/100\n",
      " - 0s - loss: 0.0056 - acc: 0.1697\n",
      "Epoch 34/100\n",
      " - 0s - loss: 0.0055 - acc: 0.1697\n",
      "Epoch 35/100\n",
      " - 1s - loss: 0.0055 - acc: 0.1699\n",
      "Epoch 36/100\n",
      " - 0s - loss: 0.0056 - acc: 0.1697\n",
      "Epoch 37/100\n",
      " - 0s - loss: 0.0055 - acc: 0.1697\n",
      "Epoch 38/100\n",
      " - 0s - loss: 0.0054 - acc: 0.1699\n",
      "Epoch 39/100\n",
      " - 0s - loss: 0.0055 - acc: 0.1700\n",
      "Epoch 40/100\n",
      " - 0s - loss: 0.0053 - acc: 0.1697\n",
      "Epoch 41/100\n",
      " - 0s - loss: 0.0055 - acc: 0.1697\n",
      "Epoch 42/100\n",
      " - 0s - loss: 0.0054 - acc: 0.1699\n",
      "Epoch 43/100\n",
      " - 0s - loss: 0.0055 - acc: 0.1697\n",
      "Epoch 44/100\n",
      " - 0s - loss: 0.0056 - acc: 0.1699\n",
      "Epoch 45/100\n",
      " - 0s - loss: 0.0054 - acc: 0.1699\n",
      "Epoch 46/100\n",
      " - 0s - loss: 0.0054 - acc: 0.1696\n",
      "Epoch 47/100\n",
      " - 0s - loss: 0.0053 - acc: 0.1696\n",
      "Epoch 48/100\n",
      " - 0s - loss: 0.0053 - acc: 0.1700\n",
      "Epoch 49/100\n",
      " - 0s - loss: 0.0053 - acc: 0.1700\n",
      "Epoch 50/100\n",
      " - 0s - loss: 0.0055 - acc: 0.1699\n",
      "Epoch 51/100\n",
      " - 0s - loss: 0.0054 - acc: 0.1696\n",
      "Epoch 52/100\n",
      " - 0s - loss: 0.0054 - acc: 0.1699\n",
      "Epoch 53/100\n",
      " - 0s - loss: 0.0053 - acc: 0.1699\n",
      "Epoch 54/100\n",
      " - 0s - loss: 0.0054 - acc: 0.1699\n",
      "Epoch 55/100\n",
      " - 0s - loss: 0.0055 - acc: 0.1696\n",
      "Epoch 56/100\n",
      " - 0s - loss: 0.0053 - acc: 0.1699\n",
      "Epoch 57/100\n",
      " - 0s - loss: 0.0056 - acc: 0.1697\n",
      "Epoch 58/100\n",
      " - 0s - loss: 0.0053 - acc: 0.1696\n",
      "Epoch 59/100\n",
      " - 0s - loss: 0.0054 - acc: 0.1697\n",
      "Epoch 60/100\n",
      " - 0s - loss: 0.0053 - acc: 0.1699\n",
      "Epoch 61/100\n",
      " - 0s - loss: 0.0055 - acc: 0.1697\n",
      "Epoch 62/100\n",
      " - 0s - loss: 0.0053 - acc: 0.1700\n",
      "Epoch 63/100\n",
      " - 0s - loss: 0.0054 - acc: 0.1696\n",
      "Epoch 64/100\n",
      " - 0s - loss: 0.0054 - acc: 0.1697\n",
      "Epoch 65/100\n",
      " - 0s - loss: 0.0054 - acc: 0.1697\n",
      "Epoch 66/100\n",
      " - 0s - loss: 0.0054 - acc: 0.1699\n",
      "Epoch 67/100\n",
      " - 0s - loss: 0.0054 - acc: 0.1699\n",
      "Epoch 68/100\n",
      " - 0s - loss: 0.0054 - acc: 0.1697\n",
      "Epoch 69/100\n",
      " - 0s - loss: 0.0054 - acc: 0.1699\n",
      "Epoch 70/100\n",
      " - 0s - loss: 0.0054 - acc: 0.1697\n",
      "Epoch 71/100\n",
      " - 0s - loss: 0.0054 - acc: 0.1699\n",
      "Epoch 72/100\n",
      " - 0s - loss: 0.0054 - acc: 0.1699\n",
      "Epoch 73/100\n",
      " - 0s - loss: 0.0052 - acc: 0.1699\n",
      "Epoch 74/100\n",
      " - 0s - loss: 0.0051 - acc: 0.1697\n",
      "Epoch 75/100\n",
      " - 0s - loss: 0.0054 - acc: 0.1697\n",
      "Epoch 76/100\n",
      " - 0s - loss: 0.0054 - acc: 0.1699\n",
      "Epoch 77/100\n",
      " - 0s - loss: 0.0053 - acc: 0.1697\n",
      "Epoch 78/100\n",
      " - 0s - loss: 0.0053 - acc: 0.1699\n",
      "Epoch 79/100\n",
      " - 0s - loss: 0.0053 - acc: 0.1697\n",
      "Epoch 80/100\n",
      " - 0s - loss: 0.0053 - acc: 0.1699\n",
      "Epoch 81/100\n",
      " - 0s - loss: 0.0053 - acc: 0.1699\n",
      "Epoch 82/100\n",
      " - 0s - loss: 0.0054 - acc: 0.1699\n",
      "Epoch 83/100\n",
      " - 0s - loss: 0.0052 - acc: 0.1700\n",
      "Epoch 84/100\n",
      " - 0s - loss: 0.0053 - acc: 0.1697\n",
      "Epoch 85/100\n",
      " - 0s - loss: 0.0054 - acc: 0.1697\n",
      "Epoch 86/100\n",
      " - 0s - loss: 0.0052 - acc: 0.1699\n",
      "Epoch 87/100\n",
      " - 0s - loss: 0.0052 - acc: 0.1699\n",
      "Epoch 88/100\n",
      " - 0s - loss: 0.0052 - acc: 0.1696\n",
      "Epoch 89/100\n",
      " - 0s - loss: 0.0052 - acc: 0.1699\n",
      "Epoch 90/100\n",
      " - 0s - loss: 0.0053 - acc: 0.1697\n",
      "Epoch 91/100\n",
      " - 0s - loss: 0.0053 - acc: 0.1697\n",
      "Epoch 92/100\n",
      " - 0s - loss: 0.0051 - acc: 0.1699\n",
      "Epoch 93/100\n",
      " - 0s - loss: 0.0053 - acc: 0.1699\n",
      "Epoch 94/100\n",
      " - 0s - loss: 0.0053 - acc: 0.1696\n",
      "Epoch 95/100\n",
      " - 0s - loss: 0.0054 - acc: 0.1699\n",
      "Epoch 96/100\n",
      " - 0s - loss: 0.0053 - acc: 0.1697\n",
      "Epoch 97/100\n",
      " - 0s - loss: 0.0053 - acc: 0.1696\n",
      "Epoch 98/100\n",
      " - 0s - loss: 0.0052 - acc: 0.1700\n",
      "Epoch 99/100\n",
      " - 0s - loss: 0.0052 - acc: 0.1700\n",
      "Epoch 100/100\n",
      " - 0s - loss: 0.0052 - acc: 0.1699\n"
     ]
    }
   ],
   "source": [
    "# second train model\n",
    "hist1 = invNet0.fit(x_train, y_train,\n",
    "         epochs=100,\n",
    "         batch_size=32,\n",
    "         verbose=2);"
   ]
  },
  {
   "cell_type": "code",
   "execution_count": 26,
   "metadata": {},
   "outputs": [
    {
     "data": {
      "image/png": "[encoded data removed]",
      "text/plain": [
       "<matplotlib.figure.Figure at 0x122b155f8>"
      ]
     },
     "metadata": {},
     "output_type": "display_data"
    }
   ],
   "source": [
    "plt.figure(figsize=(10,5))\n",
    "plt.plot(hist1.history['loss'])\n",
    "plt.grid()\n",
    "plt.title('model loss')\n",
    "plt.ylabel('loss')\n",
    "plt.xlabel('epoch')\n",
    "plt.legend(['train'], loc='upper right')\n",
    "plt.show()"
   ]
  },
  {
   "cell_type": "markdown",
   "metadata": {},
   "source": [
    "## Inspect results"
   ]
  },
  {
   "cell_type": "code",
   "execution_count": 27,
   "metadata": {
    "collapsed": true
   },
   "outputs": [],
   "source": [
    "outPedalNet = invNet0.predict(x_train)\n"
   ]
  },
  {
   "cell_type": "code",
   "execution_count": 28,
   "metadata": {
    "collapsed": true
   },
   "outputs": [],
   "source": [
    "ptPredNet = np.empty((len(outPedalNet)))\n",
    "pbPredNet = np.empty((len(outPedalNet)))\n",
    "\n",
    "for i in range(0,len(outPedalNet)):\n",
    "    ptPredNet[i] = max(0, outPedalNet[i])\n",
    "    pbPredNet[i] = -min(0, outPedalNet[i])\n",
    "    "
   ]
  },
  {
   "cell_type": "code",
   "execution_count": 162,
   "metadata": {},
   "outputs": [
    {
     "data": {
      "image/png": "[encoded data removed]",
      "text/plain": [
       "<matplotlib.figure.Figure at 0x12394e630>"
      ]
     },
     "metadata": {},
     "output_type": "display_data"
    },
    {
     "data": {
      "image/png": "[encoded data removed]",
      "text/plain": [
       "<matplotlib.figure.Figure at 0x123b8f908>"
      ]
     },
     "metadata": {},
     "output_type": "display_data"
    }
   ],
   "source": [
    "ex = 5\n",
    "\n",
    "plt.figure(figsize=(8,4))\n",
    "plt.plot(timeData[exList[ex][0]:exList[ex][1]], throttle[exList[ex][0]:exList[ex][1]],'--')\n",
    "plt.plot(timeData[exList[ex][0]:exList[ex][1]], ptPredNet[exList[ex][0]-maxWin:exList[ex][1]-maxWin],'r-')\n",
    "plt.ylim((-0.02,1.02))\n",
    "plt.xlabel('time [s]')\n",
    "plt.ylabel('throttle [-]')\n",
    "plt.title('Comparison between predicted throttle position and real')\n",
    "plt.show()\n",
    "\n",
    "plt.figure(figsize=(8,4))\n",
    "plt.plot(timeData[exList[ex][0]:exList[ex][1]], brake[exList[ex][0]:exList[ex][1]],'--')\n",
    "plt.plot(timeData[exList[ex][0]:exList[ex][1]], pbPredNet[exList[ex][0]-maxWin:exList[ex][1]-maxWin],'r-')\n",
    "plt.ylim((-0.02,1.02))\n",
    "plt.xlabel('time [s]')\n",
    "plt.ylabel('throttle')\n",
    "plt.title('Comparison between predicted brake position and real')\n",
    "plt.show()"
   ]
  },
  {
   "cell_type": "markdown",
   "metadata": {},
   "source": [
    "# Export model"
   ]
  },
  {
   "cell_type": "code",
   "execution_count": 32,
   "metadata": {},
   "outputs": [
    {
     "name": "stdout",
     "output_type": "stream",
     "text": [
      "mxnet\n"
     ]
    }
   ],
   "source": [
    "from keras import backend as K\n",
    "backend = K.backend()\n",
    "print(backend)"
   ]
  },
  {
   "cell_type": "code",
   "execution_count": 188,
   "metadata": {},
   "outputs": [
    {
     "name": "stdout",
     "output_type": "stream",
     "text": [
      "MXNet Backend: Successfully exported the model as MXNet model!\n",
      "MXNet symbol file -  invNet0-symbol.json\n",
      "MXNet params file -  invNet0-0000.params\n",
      "\n",
      "\n",
      "Model input data_names and data_shapes are: \n",
      "data_names :  ['/state_in1']\n",
      "data_shapes :  [DataDesc[/state_in1,(1, 100),float32,NCHW]]\n",
      "\n",
      "\n",
      "Note: In the above data_shapes, the first dimension represent the batch_size used for model training. \n",
      "You can change the batch_size for binding the module based on your inference batch_size.\n"
     ]
    }
   ],
   "source": [
    "if backend == 'tensorflow':\n",
    "    # export model to hdf5 file\n",
    "    invNet1.save('outNet/invNet0.h5')\n",
    "    jsonInvNet1 = invNet1.to_json()\n",
    "    with open(\"outNet/invNet0_tf.json\",\"w\") as json_file:\n",
    "        json_file.write(jsonInvNet1)\n",
    "elif backend == 'mxnet':\n",
    "    from keras.models import save_mxnet_model\n",
    "    os.chdir(\"outNet\")\n",
    "    data_names, data_shapes = save_mxnet_model(model=invNet0, \n",
    "                                           prefix='invNet0',\n",
    "                                           epoch=0)\n",
    "    os.chdir(\"../\")"
   ]
  },
  {
   "cell_type": "markdown",
   "metadata": {},
   "source": [
    "## Test network"
   ]
  },
  {
   "cell_type": "code",
   "execution_count": 210,
   "metadata": {
    "collapsed": true
   },
   "outputs": [],
   "source": [
    "# create fake data set\n",
    "xtest = np.zeros((1,100))\n",
    "xtest[0][0:-1] = 0.01"
   ]
  },
  {
   "cell_type": "code",
   "execution_count": 211,
   "metadata": {},
   "outputs": [
    {
     "data": {
      "text/plain": [
       "array([[0.07710256]], dtype=float32)"
      ]
     },
     "execution_count": 211,
     "metadata": {},
     "output_type": "execute_result"
    }
   ],
   "source": [
    "# in kernel network prediction\n",
    "invNet0.predict(xtest)"
   ]
  },
  {
   "cell_type": "code",
   "execution_count": 185,
   "metadata": {},
   "outputs": [],
   "source": [
    "# load trained net \n",
    "os.chdir(\"outNet\")\n",
    "import mxnet as mx\n",
    "sym, arg_params, aux_params = mx.model.load_checkpoint(prefix='invNet0', epoch=0)\n",
    "\n",
    "os.chdir(\"../\")"
   ]
  },
  {
   "cell_type": "code",
   "execution_count": 139,
   "metadata": {},
   "outputs": [],
   "source": [
    "# assign weights\n",
    "loadInvNet0 = mx.module.Module(symbol=sym, \n",
    "                    data_names=['/state_in1'], \n",
    "                    context=mx.cpu(), \n",
    "                    label_names=None)"
   ]
  },
  {
   "cell_type": "code",
   "execution_count": 140,
   "metadata": {},
   "outputs": [],
   "source": [
    "# define input\n",
    "loadInvNet0.bind(for_training=False, \n",
    "         data_shapes=[('/state_in1', (1,100))])\n",
    "\n",
    "loadInvNet0.set_params(arg_params, aux_params, allow_missing=True)"
   ]
  },
  {
   "cell_type": "code",
   "execution_count": 141,
   "metadata": {},
   "outputs": [
    {
     "data": {
      "text/plain": [
       "\n",
       "[[-0.8424833]]\n",
       "<NDArray 1x1 @cpu(0)>"
      ]
     },
     "execution_count": 141,
     "metadata": {},
     "output_type": "execute_result"
    }
   ],
   "source": [
    "xtestLoad = mx.io.NDArrayIter(xtest, None, 1)\n",
    "loadInvNet0.predict(xtestLoad)"
   ]
  },
  {
   "cell_type": "code",
   "execution_count": 144,
   "metadata": {},
   "outputs": [],
   "source": [
    "def compareNets(xT):\n",
    "    outTrainNet  = invNet0.predict(xT)[0][0]\n",
    "    xtestLoadFun = mx.io.NDArrayIter(xT, None, 1)\n",
    "    outLoadNet   = (loadInvNet0.predict(xtestLoadFun)[0]).asnumpy()[0]\n",
    "    print('Output trained net:',outTrainNet)\n",
    "    print('Output loaded  net:',outLoadNet)"
   ]
  },
  {
   "cell_type": "code",
   "execution_count": 217,
   "metadata": {},
   "outputs": [
    {
     "name": "stdout",
     "output_type": "stream",
     "text": [
      "Output trained net: 0.7029929\n",
      "Output loaded  net: 0.7029929\n"
     ]
    }
   ],
   "source": [
    "xtestFun = np.zeros((1,100))\n",
    "xtestFun[0][0:-1] = 0.5\n",
    "\n",
    "compareNets(xtestFun)"
   ]
  },
  {
   "cell_type": "code",
   "execution_count": 199,
   "metadata": {},
   "outputs": [],
   "source": [
    "# export fixed net for MXNet C++ loading\n",
    "fix_arg_params = {}\n",
    "for i, key in enumerate(arg_params):\n",
    "    fix_arg_params['arg:'+key]=arg_params[key]\n",
    "\n",
    "mx.nd.save(\"outNet/invNet0-0000.params\",fix_arg_params)"
   ]
  },
  {
   "cell_type": "code",
   "execution_count": null,
   "metadata": {
    "collapsed": true
   },
   "outputs": [],
   "source": []
  }
 ],
 "metadata": {
  "kernelspec": {
   "display_name": "Python 3",
   "language": "python",
   "name": "python3"
  },
  "language_info": {
   "codemirror_mode": {
    "name": "ipython",
    "version": 3
   },
   "file_extension": ".py",
   "mimetype": "text/x-python",
   "name": "python",
   "nbconvert_exporter": "python",
   "pygments_lexer": "ipython3",
   "version": "3.6.4"
  }
 },
 "nbformat": 4,
 "nbformat_minor": 2
}
